{
 "cells": [
  {
   "cell_type": "code",
   "execution_count": 1,
   "metadata": {
    "ExecuteTime": {
     "end_time": "2018-02-02T14:19:02.792422",
     "start_time": "2018-02-02T14:18:56.722647Z"
    },
    "collapsed": false,
    "deletable": true,
    "editable": true,
    "scrolled": false
   },
   "outputs": [],
   "source": [
    "import numpy as np\n",
    "import pandas as pd\n",
    "from scipy import stats\n",
    "import matplotlib.pyplot as plt\n",
    "import matplotlib_venn as vn\n",
    "import seaborn as sns\n",
    "from sklearn.cluster import k_means\n",
    "from sklearn.preprocessing import scale\n",
    "\n",
    "sns.set_color_codes()"
   ]
  },
  {
   "cell_type": "markdown",
   "metadata": {},
   "source": [
    "### miCLIP data\n",
    "\n",
    "miCLIP peaks downloaded from GSE63753 as BED files"
   ]
  },
  {
   "cell_type": "code",
   "execution_count": 2,
   "metadata": {},
   "outputs": [
    {
     "name": "stderr",
     "output_type": "stream",
     "text": [
      "--2018-03-02 09:49:42--  ftp://ftp.ncbi.nlm.nih.gov/geo/series/GSE63nnn/GSE63753/suppl/GSE63753_hek293.abcam.CIMS.m6A.9536.bed.txt.gz\n",
      "           => ‘-’\n",
      "Resolving ftp.ncbi.nlm.nih.gov (ftp.ncbi.nlm.nih.gov)... 130.14.250.12, 2607:f220:41e:250::10\n",
      "Connecting to ftp.ncbi.nlm.nih.gov (ftp.ncbi.nlm.nih.gov)|130.14.250.12|:21... connected.\n",
      "Logging in as anonymous ... Logged in!\n",
      "==> SYST ... done.    ==> PWD ... done.\n",
      "==> TYPE I ... done.  ==> CWD (1) /geo/series/GSE63nnn/GSE63753/suppl ... done.\n",
      "==> SIZE GSE63753_hek293.abcam.CIMS.m6A.9536.bed.txt.gz ... 158702\n",
      "==> PASV ... done.    ==> RETR GSE63753_hek293.abcam.CIMS.m6A.9536.bed.txt.gz ... done.\n",
      "Length: 158702 (155K) (unauthoritative)\n",
      "\n",
      "     0K .......... .......... .......... .......... .......... 32%  255K 0s\n",
      "    50K .......... .......... .......... .......... .......... 64%  597K 0s\n",
      "   100K .......... .......... .......... .......... .......... 96% 90.2M 0s\n",
      "   150K ....                                                  100% 46.3M=0.3s\n",
      "\n",
      "2018-03-02 09:49:44 (553 KB/s) - written to stdout [158702]\n",
      "\n",
      "--2018-03-02 09:49:44--  ftp://ftp.ncbi.nlm.nih.gov/geo/series/GSE63nnn/GSE63753/suppl/GSE63753_hek293.sysy.CITS.m6A.12051.bed.gz\n",
      "           => ‘-’\n",
      "Resolving ftp.ncbi.nlm.nih.gov (ftp.ncbi.nlm.nih.gov)... 130.14.250.12, 2607:f220:41e:250::7\n",
      "Connecting to ftp.ncbi.nlm.nih.gov (ftp.ncbi.nlm.nih.gov)|130.14.250.12|:21... connected.\n",
      "Logging in as anonymous ... Logged in!\n",
      "==> SYST ... done.    ==> PWD ... done.\n",
      "==> TYPE I ... done.  ==> CWD (1) /geo/series/GSE63nnn/GSE63753/suppl ... done.\n",
      "==> SIZE GSE63753_hek293.sysy.CITS.m6A.12051.bed.gz ... 282260\n",
      "==> PASV ... done.    ==> RETR GSE63753_hek293.sysy.CITS.m6A.12051.bed.gz ... done.\n",
      "Length: 282260 (276K) (unauthoritative)\n",
      "\n",
      "     0K .......... .......... .......... .......... .......... 18%  231K 1s\n",
      "    50K .......... .......... .......... .......... .......... 36%  598K 1s\n",
      "   100K .......... .......... .......... .......... .......... 54% 83.5M 0s\n",
      "   150K .......... .......... .......... .......... .......... 72% 33.0M 0s\n",
      "   200K .......... .......... .......... .......... .......... 90%  608K 0s\n",
      "   250K .......... .......... .....                           100% 89.6M=0.4s\n",
      "\n",
      "2018-03-02 09:49:45 (716 KB/s) - written to stdout [282260]\n",
      "\n"
     ]
    }
   ],
   "source": [
    "%%bash\n",
    "wget -O - \\\n",
    "  ftp://ftp.ncbi.nlm.nih.gov/geo/series/GSE63nnn/GSE63753/suppl/GSE63753_hek293.abcam.CIMS.m6A.9536.bed.txt.gz | \\\n",
    "gzip -d > /home/matthew/Documents/analysis_notebooks/m6a/wtap_viril/zenodo/annot/m6a_cims_peaks.bed\n",
    "wget -O - \\\n",
    "  ftp://ftp.ncbi.nlm.nih.gov/geo/series/GSE63nnn/GSE63753/suppl/GSE63753_hek293.sysy.CITS.m6A.12051.bed.gz | \\\n",
    "gzip -d > /home/matthew/Documents/analysis_notebooks/m6a/wtap_viril/zenodo/annot/m6a_cits_peaks.bed"
   ]
  },
  {
   "cell_type": "markdown",
   "metadata": {},
   "source": [
    "Bedtools intersect used to associate miCLIP peaks with overlapping genes"
   ]
  },
  {
   "cell_type": "code",
   "execution_count": 130,
   "metadata": {
    "ExecuteTime": {
     "end_time": "2018-02-02T14:19:07.722224",
     "start_time": "2018-02-02T14:19:03.377019Z"
    },
    "collapsed": false,
    "deletable": true,
    "editable": true,
    "scrolled": false
   },
   "outputs": [],
   "source": [
    "%%bash\n",
    "source activate jupyter_python3\n",
    "CIMS=\"/home/matthew/Documents/analysis_notebooks/m6a/wtap_viril/zenodo/annot/m6a_cims_peaks.bed\"\n",
    "CITS=\"/home/matthew/Documents/analysis_notebooks/m6a/wtap_viril/zenodo/annot/m6a_cits_peaks.bed\"\n",
    "awk \\\n",
    "  -v OFS=\"\\t\" \\\n",
    "  '$3 == \"exon\" {print $1, $4, $5, $10 \"_\" $14, \".\", $7}' \\\n",
    "  /home/matthew/Documents/analysis_notebooks/m6a/wtap_viril/zenodo/annot/hg19_geneset.gtf | \\\n",
    "  sed -e 's/[\";]//g' \\\n",
    "  > /home/matthew/Documents/analysis_notebooks/m6a/wtap_viril/zenodo/annot/hg19_exons.bed\n",
    "\n",
    "bedtools intersect -wa -wb -s \\\n",
    "  -a /home/matthew/Documents/analysis_notebooks/m6a/wtap_viril/zenodo/annot/hg19_exons.bed \\\n",
    "  -b <(cut -f1-6 $CIMS) | \\\n",
    "  sort -k1,1 -k2,2n \\\n",
    "  > /home/matthew/Documents/analysis_notebooks/m6a/wtap_viril/zenodo/annot/m6a_cims_gene_overlap.bed\n",
    "\n",
    "bedtools intersect -wa -wb -s \\\n",
    "  -a /home/matthew/Documents/analysis_notebooks/m6a/wtap_viril/zenodo/annot/hg19_exons.bed \\\n",
    "  -b <(cut -f1-6 $CITS) | \\\n",
    "  sort -k1,1 -k2,2n \\\n",
    "  > /home/matthew/Documents/analysis_notebooks/m6a/wtap_viril/zenodo/annot/m6a_cits_gene_overlap.bed"
   ]
  },
  {
   "cell_type": "code",
   "execution_count": 131,
   "metadata": {
    "ExecuteTime": {
     "end_time": "2018-02-02T14:19:10.519085",
     "start_time": "2018-02-02T14:19:10.066736Z"
    },
    "collapsed": false,
    "deletable": true,
    "editable": true
   },
   "outputs": [
    {
     "data": {
      "text/html": [
       "<div>\n",
       "<table border=\"1\" class=\"dataframe\">\n",
       "  <thead>\n",
       "    <tr style=\"text-align: right;\">\n",
       "      <th></th>\n",
       "      <th></th>\n",
       "      <th></th>\n",
       "      <th></th>\n",
       "      <th>gene_start</th>\n",
       "      <th>gene_end</th>\n",
       "      <th>gene_id</th>\n",
       "      <th>m6a_score</th>\n",
       "      <th>exon_no</th>\n",
       "    </tr>\n",
       "    <tr>\n",
       "      <th>chrom</th>\n",
       "      <th>m6a_start</th>\n",
       "      <th>m6a_end</th>\n",
       "      <th>strand</th>\n",
       "      <th></th>\n",
       "      <th></th>\n",
       "      <th></th>\n",
       "      <th></th>\n",
       "      <th></th>\n",
       "    </tr>\n",
       "  </thead>\n",
       "  <tbody>\n",
       "    <tr>\n",
       "      <th rowspan=\"5\" valign=\"top\">chr1</th>\n",
       "      <th>566859</th>\n",
       "      <th>566860</th>\n",
       "      <th>+</th>\n",
       "      <td>566454</td>\n",
       "      <td>567996</td>\n",
       "      <td>ENSG00000237973</td>\n",
       "      <td>2</td>\n",
       "      <td>1</td>\n",
       "    </tr>\n",
       "    <tr>\n",
       "      <th>569918</th>\n",
       "      <th>569919</th>\n",
       "      <th>+</th>\n",
       "      <td>569756</td>\n",
       "      <td>570302</td>\n",
       "      <td>ENSG00000198744</td>\n",
       "      <td>2</td>\n",
       "      <td>1</td>\n",
       "    </tr>\n",
       "    <tr>\n",
       "      <th>878150</th>\n",
       "      <th>878151</th>\n",
       "      <th>+</th>\n",
       "      <td>877790</td>\n",
       "      <td>878182</td>\n",
       "      <td>ENSG00000187634</td>\n",
       "      <td>2</td>\n",
       "      <td>2</td>\n",
       "    </tr>\n",
       "    <tr>\n",
       "      <th>879954</th>\n",
       "      <th>879955</th>\n",
       "      <th>-</th>\n",
       "      <td>879584</td>\n",
       "      <td>880180</td>\n",
       "      <td>ENSG00000188976</td>\n",
       "      <td>2</td>\n",
       "      <td>19</td>\n",
       "    </tr>\n",
       "    <tr>\n",
       "      <th>934374</th>\n",
       "      <th>934375</th>\n",
       "      <th>-</th>\n",
       "      <td>934342</td>\n",
       "      <td>934812</td>\n",
       "      <td>ENSG00000188290</td>\n",
       "      <td>16</td>\n",
       "      <td>3</td>\n",
       "    </tr>\n",
       "  </tbody>\n",
       "</table>\n",
       "</div>"
      ],
      "text/plain": [
       "                                gene_start  gene_end          gene_id  \\\n",
       "chrom m6a_start m6a_end strand                                          \n",
       "chr1  566859    566860  +           566454    567996  ENSG00000237973   \n",
       "      569918    569919  +           569756    570302  ENSG00000198744   \n",
       "      878150    878151  +           877790    878182  ENSG00000187634   \n",
       "      879954    879955  -           879584    880180  ENSG00000188976   \n",
       "      934374    934375  -           934342    934812  ENSG00000188290   \n",
       "\n",
       "                                m6a_score  exon_no  \n",
       "chrom m6a_start m6a_end strand                      \n",
       "chr1  566859    566860  +               2        1  \n",
       "      569918    569919  +               2        1  \n",
       "      878150    878151  +               2        2  \n",
       "      879954    879955  -               2       19  \n",
       "      934374    934375  -              16        3  "
      ]
     },
     "execution_count": 131,
     "metadata": {},
     "output_type": "execute_result"
    }
   ],
   "source": [
    "m6a_cims = pd.read_table(\n",
    "    '/home/matthew/Documents/analysis_notebooks/m6a/wtap_viril/zenodo/annot/m6a_cims_gene_overlap.bed',\n",
    "    sep='\\t',\n",
    "    names=['chrom', 'gene_start', 'gene_end', 'gene_id', 'score',\n",
    "           'strand', 'chrom2', 'm6a_start', 'm6a_end', 'm6a_info',\n",
    "           'm6a_score', 'strand2'],\n",
    "    usecols=['chrom', 'gene_start', 'gene_end', 'gene_id', 'strand',\n",
    "             'm6a_start', 'm6a_end', 'm6a_score'])\n",
    "exon_nos = m6a_cims.gene_id.str.split('_', expand=True)\n",
    "m6a_cims['gene_id'] = exon_nos[0]\n",
    "m6a_cims['exon_no'] = exon_nos[1].astype('i')\n",
    "m6a_cims.drop_duplicates(['m6a_start', 'm6a_end', 'gene_id'], inplace=True)\n",
    "m6a_cims.set_index(['chrom', 'm6a_start', 'm6a_end', 'strand'], inplace=True)\n",
    "m6a_cims.head()"
   ]
  },
  {
   "cell_type": "code",
   "execution_count": 3,
   "metadata": {
    "ExecuteTime": {
     "end_time": "2018-02-02T14:19:11.686550",
     "start_time": "2018-02-02T14:19:11.337393Z"
    },
    "collapsed": false,
    "deletable": true,
    "editable": true
   },
   "outputs": [
    {
     "data": {
      "text/html": [
       "<div>\n",
       "<table border=\"1\" class=\"dataframe\">\n",
       "  <thead>\n",
       "    <tr style=\"text-align: right;\">\n",
       "      <th></th>\n",
       "      <th></th>\n",
       "      <th></th>\n",
       "      <th></th>\n",
       "      <th>gene_start</th>\n",
       "      <th>gene_end</th>\n",
       "      <th>gene_id</th>\n",
       "      <th>m6a_score</th>\n",
       "      <th>exon_no</th>\n",
       "    </tr>\n",
       "    <tr>\n",
       "      <th>chrom</th>\n",
       "      <th>m6a_start</th>\n",
       "      <th>m6a_end</th>\n",
       "      <th>strand</th>\n",
       "      <th></th>\n",
       "      <th></th>\n",
       "      <th></th>\n",
       "      <th></th>\n",
       "      <th></th>\n",
       "    </tr>\n",
       "  </thead>\n",
       "  <tbody>\n",
       "    <tr>\n",
       "      <th rowspan=\"5\" valign=\"top\">chr1</th>\n",
       "      <th>569050</th>\n",
       "      <th>569051</th>\n",
       "      <th>+</th>\n",
       "      <td>568915</td>\n",
       "      <td>569121</td>\n",
       "      <td>ENSG00000240409</td>\n",
       "      <td>4</td>\n",
       "      <td>1</td>\n",
       "    </tr>\n",
       "    <tr>\n",
       "      <th>878150</th>\n",
       "      <th>878151</th>\n",
       "      <th>+</th>\n",
       "      <td>877790</td>\n",
       "      <td>878182</td>\n",
       "      <td>ENSG00000187634</td>\n",
       "      <td>4</td>\n",
       "      <td>2</td>\n",
       "    </tr>\n",
       "    <tr>\n",
       "      <th>878276</th>\n",
       "      <th>878277</th>\n",
       "      <th>+</th>\n",
       "      <td>877939</td>\n",
       "      <td>878374</td>\n",
       "      <td>ENSG00000187634</td>\n",
       "      <td>3</td>\n",
       "      <td>4</td>\n",
       "    </tr>\n",
       "    <tr>\n",
       "      <th>934374</th>\n",
       "      <th>934375</th>\n",
       "      <th>-</th>\n",
       "      <td>934342</td>\n",
       "      <td>934812</td>\n",
       "      <td>ENSG00000188290</td>\n",
       "      <td>17</td>\n",
       "      <td>3</td>\n",
       "    </tr>\n",
       "    <tr>\n",
       "      <th>934422</th>\n",
       "      <th>934423</th>\n",
       "      <th>-</th>\n",
       "      <td>934342</td>\n",
       "      <td>934812</td>\n",
       "      <td>ENSG00000188290</td>\n",
       "      <td>13</td>\n",
       "      <td>3</td>\n",
       "    </tr>\n",
       "  </tbody>\n",
       "</table>\n",
       "</div>"
      ],
      "text/plain": [
       "                                gene_start  gene_end          gene_id  \\\n",
       "chrom m6a_start m6a_end strand                                          \n",
       "chr1  569050    569051  +           568915    569121  ENSG00000240409   \n",
       "      878150    878151  +           877790    878182  ENSG00000187634   \n",
       "      878276    878277  +           877939    878374  ENSG00000187634   \n",
       "      934374    934375  -           934342    934812  ENSG00000188290   \n",
       "      934422    934423  -           934342    934812  ENSG00000188290   \n",
       "\n",
       "                                m6a_score  exon_no  \n",
       "chrom m6a_start m6a_end strand                      \n",
       "chr1  569050    569051  +               4        1  \n",
       "      878150    878151  +               4        2  \n",
       "      878276    878277  +               3        4  \n",
       "      934374    934375  -              17        3  \n",
       "      934422    934423  -              13        3  "
      ]
     },
     "execution_count": 3,
     "metadata": {},
     "output_type": "execute_result"
    }
   ],
   "source": [
    "m6a_cits = pd.read_table(\n",
    "    '/home/matthew/Documents/analysis_notebooks/m6a/wtap_viril/zenodo/annot/m6a_cits_gene_overlap.bed',\n",
    "    sep='\\t',\n",
    "    names=['chrom', 'gene_start', 'gene_end', 'gene_id', 'score',\n",
    "           'strand', 'chrom2', 'm6a_start', 'm6a_end', 'm6a_info',\n",
    "           'm6a_score', 'strand2'],\n",
    "    usecols=['chrom', 'gene_start', 'gene_end', 'gene_id', 'strand',\n",
    "             'm6a_start', 'm6a_end', 'm6a_score'])\n",
    "exon_nos = m6a_cits.gene_id.str.split('_', expand=True)\n",
    "m6a_cits['gene_id'] = exon_nos[0]\n",
    "m6a_cits['exon_no'] = exon_nos[1].astype('int')\n",
    "m6a_cits.drop_duplicates(['m6a_start', 'm6a_end', 'gene_id'], inplace=True)\n",
    "m6a_cits.set_index(['chrom', 'm6a_start', 'm6a_end', 'strand'], inplace=True)\n",
    "m6a_cits.head()"
   ]
  },
  {
   "cell_type": "code",
   "execution_count": 4,
   "metadata": {
    "ExecuteTime": {
     "end_time": "2018-02-02T14:32:43.617300",
     "start_time": "2018-02-02T14:32:41.278864Z"
    },
    "collapsed": true
   },
   "outputs": [],
   "source": [
    "all_genes = !awk \\\n",
    "  '{print $10}' /home/matthew/Documents/analysis_notebooks/m6a/wtap_viril/zenodo/annot/hg19_geneset.gtf | \\\n",
    "  sed -e 's/\"//g' -e 's/;//' | \\\n",
    "  paste -s -d','\n",
    "all_genes = set(all_genes[0].split(','))"
   ]
  },
  {
   "cell_type": "markdown",
   "metadata": {},
   "source": [
    "Output from edgeR differential expression analysis:"
   ]
  },
  {
   "cell_type": "code",
   "execution_count": 5,
   "metadata": {
    "ExecuteTime": {
     "end_time": "2018-02-02T14:53:11.164682",
     "start_time": "2018-02-02T14:53:11.077169Z"
    },
    "collapsed": false,
    "deletable": true,
    "editable": true
   },
   "outputs": [
    {
     "data": {
      "text/html": [
       "<div>\n",
       "<table border=\"1\" class=\"dataframe\">\n",
       "  <thead>\n",
       "    <tr style=\"text-align: right;\">\n",
       "      <th></th>\n",
       "      <th>hgnc_symbol</th>\n",
       "      <th>logFC</th>\n",
       "      <th>logCPM</th>\n",
       "      <th>LR</th>\n",
       "      <th>PValue</th>\n",
       "      <th>FDR</th>\n",
       "      <th>description</th>\n",
       "      <th>CC1</th>\n",
       "      <th>CC2</th>\n",
       "      <th>CC3</th>\n",
       "      <th>CN1</th>\n",
       "      <th>CN2</th>\n",
       "      <th>CN3</th>\n",
       "      <th>VWC1</th>\n",
       "      <th>VWC2</th>\n",
       "      <th>VWC3</th>\n",
       "      <th>VWN1</th>\n",
       "      <th>VWN2</th>\n",
       "      <th>VWN3</th>\n",
       "    </tr>\n",
       "  </thead>\n",
       "  <tbody>\n",
       "    <tr>\n",
       "      <th>ENSG00000000003</th>\n",
       "      <td>TSPAN6</td>\n",
       "      <td>-0.233266</td>\n",
       "      <td>4.547133</td>\n",
       "      <td>1.003614</td>\n",
       "      <td>0.316438</td>\n",
       "      <td>0.706286</td>\n",
       "      <td>tetraspanin 6 [Source:HGNC Symbol;Acc:11858]</td>\n",
       "      <td>4.215318</td>\n",
       "      <td>4.495514</td>\n",
       "      <td>4.481094</td>\n",
       "      <td>4.954004</td>\n",
       "      <td>5.032120</td>\n",
       "      <td>5.074534</td>\n",
       "      <td>4.132546</td>\n",
       "      <td>3.723161</td>\n",
       "      <td>4.027391</td>\n",
       "      <td>4.487415</td>\n",
       "      <td>4.798596</td>\n",
       "      <td>4.401288</td>\n",
       "    </tr>\n",
       "    <tr>\n",
       "      <th>ENSG00000000457</th>\n",
       "      <td>SCYL3</td>\n",
       "      <td>-0.032794</td>\n",
       "      <td>2.643601</td>\n",
       "      <td>0.006032</td>\n",
       "      <td>0.938094</td>\n",
       "      <td>0.985450</td>\n",
       "      <td>SCY1-like 3 (S. cerevisiae) [Source:HGNC Symbo...</td>\n",
       "      <td>1.989626</td>\n",
       "      <td>2.688470</td>\n",
       "      <td>2.639699</td>\n",
       "      <td>3.030661</td>\n",
       "      <td>2.792284</td>\n",
       "      <td>2.888040</td>\n",
       "      <td>2.213267</td>\n",
       "      <td>2.135087</td>\n",
       "      <td>2.286395</td>\n",
       "      <td>2.770484</td>\n",
       "      <td>2.933662</td>\n",
       "      <td>2.617338</td>\n",
       "    </tr>\n",
       "    <tr>\n",
       "      <th>ENSG00000000460</th>\n",
       "      <td>C1orf112</td>\n",
       "      <td>0.195875</td>\n",
       "      <td>3.533624</td>\n",
       "      <td>0.400316</td>\n",
       "      <td>0.526926</td>\n",
       "      <td>0.835281</td>\n",
       "      <td>chromosome 1 open reading frame 112 [Source:HG...</td>\n",
       "      <td>3.473023</td>\n",
       "      <td>3.967128</td>\n",
       "      <td>3.756768</td>\n",
       "      <td>3.586755</td>\n",
       "      <td>3.629672</td>\n",
       "      <td>3.723973</td>\n",
       "      <td>3.334802</td>\n",
       "      <td>2.883939</td>\n",
       "      <td>3.151964</td>\n",
       "      <td>3.433008</td>\n",
       "      <td>3.645769</td>\n",
       "      <td>3.315958</td>\n",
       "    </tr>\n",
       "    <tr>\n",
       "      <th>ENSG00000001036</th>\n",
       "      <td>FUCA2</td>\n",
       "      <td>-0.243525</td>\n",
       "      <td>6.947905</td>\n",
       "      <td>1.550665</td>\n",
       "      <td>0.213037</td>\n",
       "      <td>0.617309</td>\n",
       "      <td>fucosidase, alpha-L- 2, plasma [Source:HGNC Sy...</td>\n",
       "      <td>5.954524</td>\n",
       "      <td>6.014605</td>\n",
       "      <td>6.074653</td>\n",
       "      <td>7.261143</td>\n",
       "      <td>7.182987</td>\n",
       "      <td>7.169266</td>\n",
       "      <td>6.546289</td>\n",
       "      <td>6.467584</td>\n",
       "      <td>6.456447</td>\n",
       "      <td>7.453878</td>\n",
       "      <td>7.644538</td>\n",
       "      <td>7.634833</td>\n",
       "    </tr>\n",
       "    <tr>\n",
       "      <th>ENSG00000001084</th>\n",
       "      <td>GCLC</td>\n",
       "      <td>0.758483</td>\n",
       "      <td>3.600253</td>\n",
       "      <td>6.027932</td>\n",
       "      <td>0.014081</td>\n",
       "      <td>0.199181</td>\n",
       "      <td>glutamate-cysteine ligase, catalytic subunit [...</td>\n",
       "      <td>3.456407</td>\n",
       "      <td>3.976677</td>\n",
       "      <td>3.986248</td>\n",
       "      <td>3.303358</td>\n",
       "      <td>3.594972</td>\n",
       "      <td>3.579070</td>\n",
       "      <td>3.643707</td>\n",
       "      <td>3.320895</td>\n",
       "      <td>3.270471</td>\n",
       "      <td>3.452879</td>\n",
       "      <td>3.755764</td>\n",
       "      <td>3.467218</td>\n",
       "    </tr>\n",
       "  </tbody>\n",
       "</table>\n",
       "</div>"
      ],
      "text/plain": [
       "                hgnc_symbol     logFC    logCPM        LR    PValue       FDR  \\\n",
       "ENSG00000000003      TSPAN6 -0.233266  4.547133  1.003614  0.316438  0.706286   \n",
       "ENSG00000000457       SCYL3 -0.032794  2.643601  0.006032  0.938094  0.985450   \n",
       "ENSG00000000460    C1orf112  0.195875  3.533624  0.400316  0.526926  0.835281   \n",
       "ENSG00000001036       FUCA2 -0.243525  6.947905  1.550665  0.213037  0.617309   \n",
       "ENSG00000001084        GCLC  0.758483  3.600253  6.027932  0.014081  0.199181   \n",
       "\n",
       "                                                       description       CC1  \\\n",
       "ENSG00000000003       tetraspanin 6 [Source:HGNC Symbol;Acc:11858]  4.215318   \n",
       "ENSG00000000457  SCY1-like 3 (S. cerevisiae) [Source:HGNC Symbo...  1.989626   \n",
       "ENSG00000000460  chromosome 1 open reading frame 112 [Source:HG...  3.473023   \n",
       "ENSG00000001036  fucosidase, alpha-L- 2, plasma [Source:HGNC Sy...  5.954524   \n",
       "ENSG00000001084  glutamate-cysteine ligase, catalytic subunit [...  3.456407   \n",
       "\n",
       "                      CC2       CC3       CN1       CN2       CN3      VWC1  \\\n",
       "ENSG00000000003  4.495514  4.481094  4.954004  5.032120  5.074534  4.132546   \n",
       "ENSG00000000457  2.688470  2.639699  3.030661  2.792284  2.888040  2.213267   \n",
       "ENSG00000000460  3.967128  3.756768  3.586755  3.629672  3.723973  3.334802   \n",
       "ENSG00000001036  6.014605  6.074653  7.261143  7.182987  7.169266  6.546289   \n",
       "ENSG00000001084  3.976677  3.986248  3.303358  3.594972  3.579070  3.643707   \n",
       "\n",
       "                     VWC2      VWC3      VWN1      VWN2      VWN3  \n",
       "ENSG00000000003  3.723161  4.027391  4.487415  4.798596  4.401288  \n",
       "ENSG00000000457  2.135087  2.286395  2.770484  2.933662  2.617338  \n",
       "ENSG00000000460  2.883939  3.151964  3.433008  3.645769  3.315958  \n",
       "ENSG00000001036  6.467584  6.456447  7.453878  7.644538  7.634833  \n",
       "ENSG00000001084  3.320895  3.270471  3.452879  3.755764  3.467218  "
      ]
     },
     "execution_count": 5,
     "metadata": {},
     "output_type": "execute_result"
    }
   ],
   "source": [
    "nuclear_accum = pd.read_table(\n",
    "    '/home/matthew/Documents/analysis_notebooks/m6a/wtap_viril/zenodo/output/nuclear_accumulation_results.tsv',\n",
    "    sep='\\t')\n",
    "nuclear_accum = nuclear_accum[nuclear_accum.index.isin(all_genes)]\n",
    "nuclear_accum.head()"
   ]
  },
  {
   "cell_type": "code",
   "execution_count": 48,
   "metadata": {
    "ExecuteTime": {
     "end_time": "2018-02-02T14:33:15.493048",
     "start_time": "2018-02-02T14:33:15.486475Z"
    },
    "collapsed": true,
    "deletable": true,
    "editable": true
   },
   "outputs": [],
   "source": [
    "nuclear_ratio_sig = nuclear_accum[\n",
    "    (np.abs(nuclear_accum.logFC) > 0.5) & (nuclear_accum.FDR < 0.1)]"
   ]
  },
  {
   "cell_type": "code",
   "execution_count": 49,
   "metadata": {
    "ExecuteTime": {
     "end_time": "2018-02-02T14:33:24.743720",
     "start_time": "2018-02-02T14:33:24.720186Z"
    },
    "collapsed": false,
    "deletable": true,
    "editable": true,
    "scrolled": false
   },
   "outputs": [
    {
     "data": {
      "text/html": [
       "<div>\n",
       "<table border=\"1\" class=\"dataframe\">\n",
       "  <thead>\n",
       "    <tr style=\"text-align: right;\">\n",
       "      <th></th>\n",
       "      <th>hgnc_symbol</th>\n",
       "      <th>logFC</th>\n",
       "      <th>logCPM</th>\n",
       "      <th>LR</th>\n",
       "      <th>PValue</th>\n",
       "      <th>FDR</th>\n",
       "      <th>description</th>\n",
       "      <th>CC1</th>\n",
       "      <th>CC2</th>\n",
       "      <th>CC3</th>\n",
       "      <th>CN1</th>\n",
       "      <th>CN2</th>\n",
       "      <th>CN3</th>\n",
       "      <th>VWC1</th>\n",
       "      <th>VWC2</th>\n",
       "      <th>VWC3</th>\n",
       "      <th>VWN1</th>\n",
       "      <th>VWN2</th>\n",
       "      <th>VWN3</th>\n",
       "    </tr>\n",
       "  </thead>\n",
       "  <tbody>\n",
       "    <tr>\n",
       "      <th>ENSG00000263203</th>\n",
       "      <td>NaN</td>\n",
       "      <td>5.871085</td>\n",
       "      <td>2.716170</td>\n",
       "      <td>12.642839</td>\n",
       "      <td>3.770071e-04</td>\n",
       "      <td>2.792157e-02</td>\n",
       "      <td>Alternative protein CHTF8  [Source:UniProtKB/T...</td>\n",
       "      <td>4.258788</td>\n",
       "      <td>2.686829</td>\n",
       "      <td>2.583428</td>\n",
       "      <td>-4.624399</td>\n",
       "      <td>-5.930177</td>\n",
       "      <td>-5.930177</td>\n",
       "      <td>3.963302</td>\n",
       "      <td>3.128481</td>\n",
       "      <td>4.006682</td>\n",
       "      <td>2.088657</td>\n",
       "      <td>-1.297627</td>\n",
       "      <td>-5.785420</td>\n",
       "    </tr>\n",
       "    <tr>\n",
       "      <th>ENSG00000171988</th>\n",
       "      <td>JMJD1C</td>\n",
       "      <td>3.847260</td>\n",
       "      <td>2.481770</td>\n",
       "      <td>76.397872</td>\n",
       "      <td>2.319010e-18</td>\n",
       "      <td>3.933042e-14</td>\n",
       "      <td>jumonji domain containing 1C [Source:HGNC Symb...</td>\n",
       "      <td>0.127342</td>\n",
       "      <td>2.215707</td>\n",
       "      <td>1.384428</td>\n",
       "      <td>2.676304</td>\n",
       "      <td>1.277739</td>\n",
       "      <td>2.174356</td>\n",
       "      <td>-0.034196</td>\n",
       "      <td>-0.346127</td>\n",
       "      <td>-0.112176</td>\n",
       "      <td>3.950671</td>\n",
       "      <td>3.752850</td>\n",
       "      <td>3.672468</td>\n",
       "    </tr>\n",
       "    <tr>\n",
       "      <th>ENSG00000131788</th>\n",
       "      <td>PIAS3</td>\n",
       "      <td>3.355937</td>\n",
       "      <td>2.864360</td>\n",
       "      <td>16.114153</td>\n",
       "      <td>5.963670e-05</td>\n",
       "      <td>9.822073e-03</td>\n",
       "      <td>protein inhibitor of activated STAT, 3 [Source...</td>\n",
       "      <td>2.500641</td>\n",
       "      <td>4.213322</td>\n",
       "      <td>4.134019</td>\n",
       "      <td>1.488101</td>\n",
       "      <td>2.885796</td>\n",
       "      <td>1.252788</td>\n",
       "      <td>1.546493</td>\n",
       "      <td>-1.962817</td>\n",
       "      <td>1.600796</td>\n",
       "      <td>1.702808</td>\n",
       "      <td>3.367462</td>\n",
       "      <td>3.524239</td>\n",
       "    </tr>\n",
       "    <tr>\n",
       "      <th>ENSG00000133858</th>\n",
       "      <td>ZFC3H1</td>\n",
       "      <td>3.286137</td>\n",
       "      <td>3.204266</td>\n",
       "      <td>36.664850</td>\n",
       "      <td>1.402862e-09</td>\n",
       "      <td>1.830196e-06</td>\n",
       "      <td>zinc finger, C3H1-type containing [Source:HGNC...</td>\n",
       "      <td>1.344249</td>\n",
       "      <td>2.941984</td>\n",
       "      <td>2.551781</td>\n",
       "      <td>3.516036</td>\n",
       "      <td>2.852937</td>\n",
       "      <td>3.363901</td>\n",
       "      <td>0.635002</td>\n",
       "      <td>-0.216655</td>\n",
       "      <td>0.614525</td>\n",
       "      <td>4.512172</td>\n",
       "      <td>4.255128</td>\n",
       "      <td>4.226272</td>\n",
       "    </tr>\n",
       "    <tr>\n",
       "      <th>ENSG00000023287</th>\n",
       "      <td>RB1CC1</td>\n",
       "      <td>3.250432</td>\n",
       "      <td>2.201720</td>\n",
       "      <td>36.926221</td>\n",
       "      <td>1.226849e-09</td>\n",
       "      <td>1.733946e-06</td>\n",
       "      <td>RB1-inducible coiled-coil 1 [Source:HGNC Symbo...</td>\n",
       "      <td>0.925385</td>\n",
       "      <td>2.992553</td>\n",
       "      <td>2.224289</td>\n",
       "      <td>2.211049</td>\n",
       "      <td>1.565476</td>\n",
       "      <td>1.553751</td>\n",
       "      <td>0.600914</td>\n",
       "      <td>0.769532</td>\n",
       "      <td>0.614527</td>\n",
       "      <td>3.071885</td>\n",
       "      <td>2.826582</td>\n",
       "      <td>3.065391</td>\n",
       "    </tr>\n",
       "  </tbody>\n",
       "</table>\n",
       "</div>"
      ],
      "text/plain": [
       "                hgnc_symbol     logFC    logCPM         LR        PValue  \\\n",
       "ENSG00000263203         NaN  5.871085  2.716170  12.642839  3.770071e-04   \n",
       "ENSG00000171988      JMJD1C  3.847260  2.481770  76.397872  2.319010e-18   \n",
       "ENSG00000131788       PIAS3  3.355937  2.864360  16.114153  5.963670e-05   \n",
       "ENSG00000133858      ZFC3H1  3.286137  3.204266  36.664850  1.402862e-09   \n",
       "ENSG00000023287      RB1CC1  3.250432  2.201720  36.926221  1.226849e-09   \n",
       "\n",
       "                          FDR  \\\n",
       "ENSG00000263203  2.792157e-02   \n",
       "ENSG00000171988  3.933042e-14   \n",
       "ENSG00000131788  9.822073e-03   \n",
       "ENSG00000133858  1.830196e-06   \n",
       "ENSG00000023287  1.733946e-06   \n",
       "\n",
       "                                                       description       CC1  \\\n",
       "ENSG00000263203  Alternative protein CHTF8  [Source:UniProtKB/T...  4.258788   \n",
       "ENSG00000171988  jumonji domain containing 1C [Source:HGNC Symb...  0.127342   \n",
       "ENSG00000131788  protein inhibitor of activated STAT, 3 [Source...  2.500641   \n",
       "ENSG00000133858  zinc finger, C3H1-type containing [Source:HGNC...  1.344249   \n",
       "ENSG00000023287  RB1-inducible coiled-coil 1 [Source:HGNC Symbo...  0.925385   \n",
       "\n",
       "                      CC2       CC3       CN1       CN2       CN3      VWC1  \\\n",
       "ENSG00000263203  2.686829  2.583428 -4.624399 -5.930177 -5.930177  3.963302   \n",
       "ENSG00000171988  2.215707  1.384428  2.676304  1.277739  2.174356 -0.034196   \n",
       "ENSG00000131788  4.213322  4.134019  1.488101  2.885796  1.252788  1.546493   \n",
       "ENSG00000133858  2.941984  2.551781  3.516036  2.852937  3.363901  0.635002   \n",
       "ENSG00000023287  2.992553  2.224289  2.211049  1.565476  1.553751  0.600914   \n",
       "\n",
       "                     VWC2      VWC3      VWN1      VWN2      VWN3  \n",
       "ENSG00000263203  3.128481  4.006682  2.088657 -1.297627 -5.785420  \n",
       "ENSG00000171988 -0.346127 -0.112176  3.950671  3.752850  3.672468  \n",
       "ENSG00000131788 -1.962817  1.600796  1.702808  3.367462  3.524239  \n",
       "ENSG00000133858 -0.216655  0.614525  4.512172  4.255128  4.226272  \n",
       "ENSG00000023287  0.769532  0.614527  3.071885  2.826582  3.065391  "
      ]
     },
     "execution_count": 49,
     "metadata": {},
     "output_type": "execute_result"
    }
   ],
   "source": [
    "nuclear_ratio_sig.sort_values('logFC', ascending=False).head()"
   ]
  },
  {
   "cell_type": "markdown",
   "metadata": {},
   "source": [
    "### Volcano plot (Fig 3a):"
   ]
  },
  {
   "cell_type": "code",
   "execution_count": 50,
   "metadata": {
    "ExecuteTime": {
     "end_time": "2018-02-02T14:33:35.755627",
     "start_time": "2018-02-02T14:33:35.302047Z"
    },
    "collapsed": false,
    "deletable": true,
    "editable": true,
    "scrolled": false
   },
   "outputs": [
    {
     "data": {
      "image/png": "[encoded data removed]",
      "text/plain": [
       "<matplotlib.figure.Figure at 0x7f58310ba940>"
      ]
     },
     "metadata": {},
     "output_type": "display_data"
    }
   ],
   "source": [
    "fig, ax = plt.subplots(figsize=(2, 2))\n",
    "sns.set(font='Arial')\n",
    "plt.rcParams['svg.fonttype'] = 'none'\n",
    "style = sns.axes_style('white')\n",
    "style.update(sns.axes_style('ticks'))\n",
    "style['xtick.major.size'] = 2\n",
    "style['ytick.major.size'] = 2\n",
    "sns.set_style(style)\n",
    "ax.scatter(nuclear_accum.logFC,\n",
    "           -np.log10(nuclear_accum.PValue),\n",
    "           edgecolor='none',\n",
    "           rasterized=True,\n",
    "           s=10,\n",
    "           color=['#E69F00' if x else '#0C73B3' for x in nuclear_accum.index.isin(nuclear_ratio_sig.index)],\n",
    "           alpha=0.5)\n",
    "ax.axvline(0.5, ls='--', color='#555555')\n",
    "ax.axvline(-0.5, ls='--', color='#555555')\n",
    "ax.set_xlim(-4, 4)\n",
    "ax.set_ylim(0, 12)\n",
    "ax.axhline(2.4512, ls='--', color='#555555')\n",
    "ax.annotate(s='FDR=0.1', xy=(-3.9, 2.6),\n",
    "            fontname='Arial',\n",
    "            size=10,\n",
    "            horizontalalignment='left',\n",
    "            verticalalignment='bottom')\n",
    "ax.annotate(\n",
    "    s='n={:d}'.format(len(nuclear_ratio_sig[nuclear_ratio_sig.logFC > 0])),\n",
    "    xy=(0.75, 10.8),\n",
    "    fontname='Arial',\n",
    "    size=10,\n",
    "    horizontalalignment='left',\n",
    "    verticalalignment='bottom')\n",
    "ax.annotate(\n",
    "    s='n={:d}'.format(len(nuclear_ratio_sig[nuclear_ratio_sig.logFC < 0])),\n",
    "    xy=(-0.75, 10.8),\n",
    "    fontname='Arial',\n",
    "    size=10,\n",
    "    horizontalalignment='right',\n",
    "    verticalalignment='bottom')\n",
    "ax.set_xlabel('Log2 fold change in Nucl/Cyto ratio', size=10, labelpad=5)\n",
    "ax.set_ylabel('Negative Log10 P value', size=10, labelpad=5)\n",
    "ax.tick_params(axis='both', which='major', pad=2)\n",
    "plt.savefig('/home/matthew/Documents/analysis_notebooks/m6a/wtap_viril/zenodo/figures/volcano.svg', transparent=True)\n",
    "plt.show()"
   ]
  },
  {
   "cell_type": "markdown",
   "metadata": {},
   "source": [
    "### K-means clustering of increased N/C and decreased N/C genes (Fig S2):"
   ]
  },
  {
   "cell_type": "code",
   "execution_count": 115,
   "metadata": {},
   "outputs": [],
   "source": [
    "def cluster_geneset(geneset, methylated_set, n_clusters, seed=None):\n",
    "    geneset_scaled = geneset.copy()\n",
    "    scaled_vals = scale(geneset_scaled.iloc[:, -12:].values, axis=1)\n",
    "    geneset_scaled.iloc[:, -12:] = scaled_vals\n",
    "    centroid, labels, *_ = k_means(scaled_vals, n_clusters, random_state=seed)\n",
    "    geneset_scaled['cluster'] = labels + 1\n",
    "    geneset_scaled['methylated'] = geneset_scaled.index.isin(methylated_set)\n",
    "    plt.rcParams['svg.fonttype'] = 'none'\n",
    "    sns.set(font='Arial', font_scale=1.2, style='white')\n",
    "    geneset_long = pd.melt(\n",
    "        geneset_scaled,\n",
    "        id_vars=['hgnc_symbol', 'cluster', 'logFC'],\n",
    "        value_vars=['CC1', 'CC2', 'CC3', 'CN1', 'CN2', 'CN3',\n",
    "                    'VWC1', 'VWC2', 'VWC2', 'VWN1', 'VWN2', 'VWN3'],\n",
    "        value_name='Relative Expression Change',\n",
    "        var_name='Condition',\n",
    "    )\n",
    "    geneset_long['Condition'] = geneset_long.Condition.str[:-1]\n",
    "    g = sns.FacetGrid(data=geneset_long, col='cluster')\n",
    "    g.map(sns.pointplot, 'Condition', 'Relative Expression Change')\n",
    "    fig, ax = plt.subplots(figsize=(6, 6))\n",
    "    sns.countplot(x='cluster',\n",
    "                  data=geneset_scaled,\n",
    "                  color='#E69F00',\n",
    "                  ax=ax,\n",
    "                  label='not m6A')\n",
    "    sns.countplot(x='cluster',\n",
    "                  data=geneset_scaled[geneset_scaled.methylated],\n",
    "                  color='#0C73B3',\n",
    "                  ax=ax,\n",
    "                  label='m6A')\n",
    "    ax.set_xlabel('Cluster')\n",
    "    ax.set_ylabel('Cluster Size')\n",
    "    plt.legend(loc=0)\n",
    "    pca = PCA(2).fit(scaled_vals)\n",
    "    comps = pca.transform(scaled_vals)\n",
    "    centroid_comps = pca.transform(centroid)\n",
    "    fig2, ax2 = plt.subplots()\n",
    "    ax2.scatter(comps[:, 0], comps[:, 1], c=labels, cmap='Set1')\n",
    "    for i, t in enumerate(centroid_comps, 1):\n",
    "        ax2.annotate(s=i, xy=t, fontsize=25)\n",
    "    return geneset_scaled, g, fig, fig2"
   ]
  },
  {
   "cell_type": "code",
   "execution_count": 116,
   "metadata": {},
   "outputs": [
    {
     "data": {
      "image/png": "[encoded data removed]",
      "text/plain": [
       "<matplotlib.figure.Figure at 0x7f23f9f1a8d0>"
      ]
     },
     "metadata": {},
     "output_type": "display_data"
    },
    {
     "data": {
      "image/png": "[encoded data removed]",
      "text/plain": [
       "<matplotlib.figure.Figure at 0x7f23fa7fb048>"
      ]
     },
     "metadata": {},
     "output_type": "display_data"
    },
    {
     "data": {
      "image/png": "[encoded data removed]",
      "text/plain": [
       "<matplotlib.figure.Figure at 0x7f23fcfedac8>"
      ]
     },
     "metadata": {},
     "output_type": "display_data"
    }
   ],
   "source": [
    "nuclear_deplete_sig = nuclear_accum[\n",
    "    (nuclear_accum.logFC < -0.5) & (nuclear_accum.FDR < 0.1)]\n",
    "methylated_set = set(m6a_cims.gene_id).union(m6a_cits.gene_id)\n",
    "nd, *_ = cluster_geneset(nuclear_deplete_sig, methylated_set, 4)\n",
    "plt.show()"
   ]
  },
  {
   "cell_type": "code",
   "execution_count": 120,
   "metadata": {},
   "outputs": [
    {
     "data": {
      "image/png": "[encoded data removed]",
      "text/plain": [
       "<matplotlib.figure.Figure at 0x7f23f96214e0>"
      ]
     },
     "metadata": {},
     "output_type": "display_data"
    },
    {
     "data": {
      "image/png": "[encoded data removed]",
      "text/plain": [
       "<matplotlib.figure.Figure at 0x7f23f825c2b0>"
      ]
     },
     "metadata": {},
     "output_type": "display_data"
    },
    {
     "data": {
      "image/png": "[encoded data removed]",
      "text/plain": [
       "<matplotlib.figure.Figure at 0x7f23f8e46390>"
      ]
     },
     "metadata": {},
     "output_type": "display_data"
    }
   ],
   "source": [
    "nuclear_accum_sig = nuclear_accum[\n",
    "    (nuclear_accum.logFC > 0.5) & (nuclear_accum.FDR < 0.1)]\n",
    "methylated_set = set(m6a_cims.gene_id).union(m6a_cits.gene_id)\n",
    "na, *_ = cluster_geneset(nuclear_accum_sig, methylated_set, 3)\n",
    "plt.show()"
   ]
  },
  {
   "cell_type": "markdown",
   "metadata": {},
   "source": [
    "Hypergeometric tests for overlap of methylated genes and increased N/C genes"
   ]
  },
  {
   "cell_type": "code",
   "execution_count": 82,
   "metadata": {
    "ExecuteTime": {
     "end_time": "2018-02-02T14:34:23.075703",
     "start_time": "2018-02-02T14:34:23.062761Z"
    },
    "collapsed": false,
    "deletable": true,
    "editable": true,
    "scrolled": false
   },
   "outputs": [
    {
     "name": "stdout",
     "output_type": "stream",
     "text": [
      "4535\n",
      "301\n",
      "57736\n",
      "153\n",
      "1.29509704233e-86\n"
     ]
    }
   ],
   "source": [
    "m6a_cims_genes = set(m6a_cims.gene_id)\n",
    "nuc_acc_genes = set(nuclear_accum_sig.index.values)\n",
    "print(len(m6a_cims_genes))\n",
    "print(len(nuc_acc_genes))\n",
    "print(len(all_genes))\n",
    "print(len(m6a_cims_genes.intersection(nuc_acc_genes)))\n",
    "p_val = stats.hypergeom.sf(\n",
    "    len(m6a_cims_genes.intersection(nuc_acc_genes)) - 1,\n",
    "    len(all_genes),\n",
    "    len(m6a_cims_genes),\n",
    "    len(nuc_acc_genes)\n",
    ")\n",
    "print(p_val)"
   ]
  },
  {
   "cell_type": "code",
   "execution_count": 52,
   "metadata": {
    "ExecuteTime": {
     "end_time": "2018-02-02T14:34:23.934564",
     "start_time": "2018-02-02T14:34:23.926326Z"
    },
    "collapsed": false,
    "deletable": true,
    "editable": true
   },
   "outputs": [
    {
     "name": "stdout",
     "output_type": "stream",
     "text": [
      "4082\n",
      "301\n",
      "57736\n",
      "152\n",
      "4.79219927313e-92\n"
     ]
    }
   ],
   "source": [
    "m6a_cits_genes = set(m6a_cits.gene_id)\n",
    "nuc_acc_genes = set(nuclear_accum_sig.index.values)\n",
    "print(len(m6a_cits_genes))\n",
    "print(len(nuc_acc_genes))\n",
    "print(len(all_genes))\n",
    "print(len(m6a_cits_genes.intersection(nuc_acc_genes)))\n",
    "p_val = stats.hypergeom.sf(\n",
    "    len(m6a_cits_genes.intersection(nuc_acc_genes)) - 1,\n",
    "    len(all_genes),\n",
    "    len(m6a_cits_genes),\n",
    "    len(nuc_acc_genes)\n",
    ")\n",
    "print(p_val)"
   ]
  },
  {
   "cell_type": "code",
   "execution_count": 270,
   "metadata": {
    "ExecuteTime": {
     "end_time": "2018-02-02T14:34:25.979069",
     "start_time": "2018-02-02T14:34:25.974079Z"
    },
    "collapsed": false,
    "deletable": true,
    "editable": true
   },
   "outputs": [
    {
     "name": "stdout",
     "output_type": "stream",
     "text": [
      "0.10927324373008175\n",
      "0.6843853820598007\n"
     ]
    }
   ],
   "source": [
    "all_methylated = m6a_cims_genes.union(m6a_cits_genes)\n",
    "print(len(all_methylated) / len(all_genes))\n",
    "all_nuc_acc_methylated = all_methylated.intersection(nuc_acc_genes)\n",
    "print(len(all_nuc_acc_methylated) / len(nuc_acc_genes))"
   ]
  },
  {
   "cell_type": "code",
   "execution_count": 271,
   "metadata": {
    "ExecuteTime": {
     "end_time": "2018-02-02T14:34:31.410012",
     "start_time": "2018-02-02T14:34:31.405823Z"
    },
    "collapsed": false,
    "deletable": true,
    "editable": true
   },
   "outputs": [
    {
     "name": "stdout",
     "output_type": "stream",
     "text": [
      "1.65557658865e-124\n"
     ]
    }
   ],
   "source": [
    "p_val = stats.hypergeom.sf(\n",
    "    len(all_nuc_acc_methylated) - 1,\n",
    "    len(all_genes),\n",
    "    len(all_methylated),\n",
    "    len(nuc_acc_genes)\n",
    ")\n",
    "print(p_val)"
   ]
  },
  {
   "cell_type": "code",
   "execution_count": 272,
   "metadata": {
    "ExecuteTime": {
     "end_time": "2018-02-02T14:34:32.294032",
     "start_time": "2018-02-02T14:34:32.286292Z"
    },
    "collapsed": false,
    "deletable": true,
    "editable": true
   },
   "outputs": [
    {
     "name": "stdout",
     "output_type": "stream",
     "text": [
      "6.00529326842e-62\n"
     ]
    }
   ],
   "source": [
    "methylated_intersection = m6a_cims_genes.intersection(m6a_cits_genes)\n",
    "methylated_nuc_acc = methylated_intersection.intersection(nuc_acc_genes)\n",
    "\n",
    "p_val = stats.hypergeom.sf(\n",
    "    len(methylated_nuc_acc) - 1,\n",
    "    len(all_genes),\n",
    "    len(methylated_intersection),\n",
    "    len(nuc_acc_genes)\n",
    ")\n",
    "print(p_val)"
   ]
  },
  {
   "cell_type": "markdown",
   "metadata": {},
   "source": [
    "### Venn diagram of miCLIP overlap with increased N/C genes (Fig 3b):"
   ]
  },
  {
   "cell_type": "code",
   "execution_count": 273,
   "metadata": {
    "ExecuteTime": {
     "end_time": "2018-02-02T14:34:37.375677",
     "start_time": "2018-02-02T14:34:37.262468Z"
    },
    "collapsed": false,
    "deletable": true,
    "editable": true,
    "scrolled": false
   },
   "outputs": [
    {
     "data": {
      "image/png": "[encoded data removed]",
      "text/plain": [
       "<matplotlib.figure.Figure at 0x7fb73d9d1048>"
      ]
     },
     "metadata": {},
     "output_type": "display_data"
    }
   ],
   "source": [
    "m6a_cims_genes = set(m6a_cims.gene_id)\n",
    "m6a_cits_genes = set(m6a_cits.gene_id)\n",
    "nuc_acc_genes = set(nuclear_accum_sig.index.values)\n",
    "\n",
    "import itertools as it\n",
    "fig, ax = plt.subplots(figsize=(2, 2))\n",
    "v = vn.venn3(\n",
    "    [m6a_cims_genes, m6a_cits_genes, nuc_acc_genes],\n",
    "    set_colors=['#069E73', '#0C73B3', '#E69F00'],\n",
    "    set_labels=['m6a CIMS\\nCLIPseq',\n",
    "                'm6a CITS\\nCLIPseq',\n",
    "                'Nuclear\\nAccumulated'])\n",
    "for label in it.chain(v.set_labels, v.subset_labels):\n",
    "    label.set(size=10)\n",
    "label = v.get_label_by_id('111')\n",
    "pos = label.get_position()\n",
    "#label.set(text='{}\\np = {:.2g}'.format(label.get_text(), p_val),\n",
    "#          position=(pos[0], pos[1] -0.04))\n",
    "#for p in ['111', '110']:\n",
    "#    subset_patch = v.get_patch_by_id(p)\n",
    "#    subset_patch.set(edgecolor='#555555', lw=2, hatch='--')\n",
    "plt.savefig('/home/matthew/Documents/analysis_notebooks/m6a/wtap_viril/zenodo/figures/methylation_venn.svg', facecolor='none', transparent=True)\n",
    "plt.show()"
   ]
  },
  {
   "cell_type": "markdown",
   "metadata": {},
   "source": [
    "### Number of m6A sites per gene for increased N/C ratio vs other methylated (Fig 3C):"
   ]
  },
  {
   "cell_type": "code",
   "execution_count": 62,
   "metadata": {
    "ExecuteTime": {
     "end_time": "2018-02-01T13:32:06.477064",
     "start_time": "2018-02-01T13:32:06.254227Z"
    },
    "collapsed": false,
    "deletable": true,
    "editable": true,
    "scrolled": false
   },
   "outputs": [
    {
     "name": "stderr",
     "output_type": "stream",
     "text": [
      "/home/matthew/anaconda3/envs/jupyter_python3/lib/python3.4/site-packages/statsmodels/nonparametric/kdetools.py:20: VisibleDeprecationWarning: using a non-integer number instead of an integer will result in an error in the future\n",
      "  y = X[:m/2+1] + np.r_[0,X[m/2+1:],0]*1j\n"
     ]
    },
    {
     "data": {
      "image/png": "[encoded data removed]",
      "text/plain": [
       "<matplotlib.figure.Figure at 0x7fbab1ef51d0>"
      ]
     },
     "metadata": {},
     "output_type": "display_data"
    }
   ],
   "source": [
    "m6a = pd.concat([m6a_cims, m6a_cits])\n",
    "m6a = m6a[~m6a.index.duplicated(keep='first')]\n",
    "fig, ax = plt.subplots(figsize=(2, 2))\n",
    "kde_kws = dict(bw=0.8)\n",
    "sns.set_style(style)\n",
    "sns.distplot(\n",
    "    m6a[m6a.gene_id.isin(nuc_acc_genes)].groupby('gene_id').count().exon_no,\n",
    "    ax=ax,\n",
    "    color='#E69F00',\n",
    "    label='Nucl accum\\nmethylated',\n",
    "    kde_kws=kde_kws,\n",
    "    bins=np.arange(1, 12, 2))\n",
    "sns.distplot(\n",
    "    m6a[~m6a.gene_id.isin(nuc_acc_genes)].groupby('gene_id').count().exon_no,\n",
    "    ax=ax,\n",
    "    color='#56B4E9',\n",
    "    label='Other\\nmethylated',\n",
    "    kde_kws=kde_kws,\n",
    "    bins=np.arange(1, 12, 2))\n",
    "plt.legend(fontsize=10)\n",
    "ax.set_xlim(1, 12)\n",
    "ax.set_xlabel('Number of m6A sites', size=10)\n",
    "ax.set_ylabel('Density', size=10)\n",
    "ax.set_yticks([0, 0.1, 0.2, 0.3, 0.4])\n",
    "plt.tight_layout(pad=0)\n",
    "plt.savefig('/home/matthew/Documents/analysis_notebooks/m6a/wtap_viril/zenodo/figures/de_gene_m6a_sites.svg',\n",
    "            facecolor='none', transparent=True)\n",
    "plt.show()"
   ]
  },
  {
   "cell_type": "code",
   "execution_count": 61,
   "metadata": {
    "ExecuteTime": {
     "end_time": "2018-02-01T13:40:23.356251",
     "start_time": "2018-02-01T13:40:23.339951Z"
    },
    "collapsed": false,
    "deletable": true,
    "editable": true
   },
   "outputs": [
    {
     "data": {
      "text/plain": [
       "MannwhitneyuResult(statistic=273696.5, pvalue=3.8590936811306733e-05)"
      ]
     },
     "execution_count": 61,
     "metadata": {},
     "output_type": "execute_result"
    }
   ],
   "source": [
    "na = m6a_cims.gene_id.isin(nuc_acc_genes)\n",
    "stats.mannwhitneyu(m6a_cims[~na].groupby('gene_id').count().exon_no,\n",
    "                   m6a_cims[na].groupby('gene_id').count().exon_no)"
   ]
  }
 ],
 "metadata": {
  "kernelspec": {
   "display_name": "Environment (conda_jupyter_python3)",
   "language": "python",
   "name": "conda_jupyter_python3"
  },
  "language_info": {
   "codemirror_mode": {
    "name": "ipython",
    "version": 3
   },
   "file_extension": ".py",
   "mimetype": "text/x-python",
   "name": "python",
   "nbconvert_exporter": "python",
   "pygments_lexer": "ipython3",
   "version": "3.4.5"
  },
  "toc": {
   "toc_cell": false,
   "toc_number_sections": true,
   "toc_threshold": 6,
   "toc_window_display": false
  },
  "widgets": {
   "state": {},
   "version": "1.1.1"
  }
 },
 "nbformat": 4,
 "nbformat_minor": 2
}
